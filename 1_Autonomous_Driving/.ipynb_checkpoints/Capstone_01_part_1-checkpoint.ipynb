{
 "cells": [
  {
   "cell_type": "markdown",
   "id": "589a91ca",
   "metadata": {},
   "source": [
    "# Vehicle Detection Solution \n",
    "## Create parent folder for custom Model training and child folders to store data "
   ]
  },
  {
   "cell_type": "code",
   "execution_count": 1,
   "id": "d72c848a",
   "metadata": {},
   "outputs": [],
   "source": [
    "import shutil\n",
    "# shutil.unpack_archive(\"Images.zip\")"
   ]
  },
  {
   "cell_type": "code",
   "execution_count": 2,
   "id": "cad814d6",
   "metadata": {},
   "outputs": [
    {
     "name": "stdout",
     "output_type": "stream",
     "text": [
      "WARNING:tensorflow:From C:\\Users\\U6054350\\AppData\\Roaming\\Python\\Python311\\site-packages\\keras\\src\\losses.py:2976: The name tf.losses.sparse_softmax_cross_entropy is deprecated. Please use tf.compat.v1.losses.sparse_softmax_cross_entropy instead.\n",
      "\n"
     ]
    }
   ],
   "source": [
    "import pandas as pd\n",
    "import os\n",
    "import cv2\n",
    "import numpy as np\n",
    "from sklearn.model_selection import train_test_split\n",
    "from tensorflow import keras\n",
    "from tensorflow.keras import layers"
   ]
  },
  {
   "cell_type": "markdown",
   "id": "1f603094",
   "metadata": {},
   "source": [
    "## Prepare the dataset for Model Training"
   ]
  },
  {
   "cell_type": "code",
   "execution_count": 3,
   "id": "cb292e0a",
   "metadata": {},
   "outputs": [],
   "source": [
    "#### Step 2: Load and preprocess the data \n",
    "# Load the labels form labels.csv\n",
    "labels_df = pd.read_csv(\"../../Datasets/Capstone_1/Part1/labels.csv\", sep=',', header=None)\n",
    "labels_df.columns = ['image_id', 'class', 'x_min', 'y_min', 'x_max', 'y_max']"
   ]
  },
  {
   "cell_type": "code",
   "execution_count": 4,
   "id": "fd0e8484",
   "metadata": {
    "scrolled": true
   },
   "outputs": [
    {
     "data": {
      "text/html": [
       "<div>\n",
       "<style scoped>\n",
       "    .dataframe tbody tr th:only-of-type {\n",
       "        vertical-align: middle;\n",
       "    }\n",
       "\n",
       "    .dataframe tbody tr th {\n",
       "        vertical-align: top;\n",
       "    }\n",
       "\n",
       "    .dataframe thead th {\n",
       "        text-align: right;\n",
       "    }\n",
       "</style>\n",
       "<table border=\"1\" class=\"dataframe\">\n",
       "  <thead>\n",
       "    <tr style=\"text-align: right;\">\n",
       "      <th></th>\n",
       "      <th>image_id</th>\n",
       "      <th>class</th>\n",
       "      <th>x_min</th>\n",
       "      <th>y_min</th>\n",
       "      <th>x_max</th>\n",
       "      <th>y_max</th>\n",
       "    </tr>\n",
       "  </thead>\n",
       "  <tbody>\n",
       "    <tr>\n",
       "      <th>0</th>\n",
       "      <td>0</td>\n",
       "      <td>pickup_truck</td>\n",
       "      <td>213</td>\n",
       "      <td>34</td>\n",
       "      <td>255</td>\n",
       "      <td>50</td>\n",
       "    </tr>\n",
       "    <tr>\n",
       "      <th>1</th>\n",
       "      <td>0</td>\n",
       "      <td>car</td>\n",
       "      <td>194</td>\n",
       "      <td>78</td>\n",
       "      <td>273</td>\n",
       "      <td>122</td>\n",
       "    </tr>\n",
       "    <tr>\n",
       "      <th>2</th>\n",
       "      <td>0</td>\n",
       "      <td>car</td>\n",
       "      <td>155</td>\n",
       "      <td>27</td>\n",
       "      <td>183</td>\n",
       "      <td>35</td>\n",
       "    </tr>\n",
       "    <tr>\n",
       "      <th>3</th>\n",
       "      <td>0</td>\n",
       "      <td>articulated_truck</td>\n",
       "      <td>43</td>\n",
       "      <td>25</td>\n",
       "      <td>109</td>\n",
       "      <td>55</td>\n",
       "    </tr>\n",
       "    <tr>\n",
       "      <th>4</th>\n",
       "      <td>0</td>\n",
       "      <td>car</td>\n",
       "      <td>106</td>\n",
       "      <td>32</td>\n",
       "      <td>124</td>\n",
       "      <td>45</td>\n",
       "    </tr>\n",
       "  </tbody>\n",
       "</table>\n",
       "</div>"
      ],
      "text/plain": [
       "   image_id              class  x_min  y_min  x_max  y_max\n",
       "0         0       pickup_truck    213     34    255     50\n",
       "1         0                car    194     78    273    122\n",
       "2         0                car    155     27    183     35\n",
       "3         0  articulated_truck     43     25    109     55\n",
       "4         0                car    106     32    124     45"
      ]
     },
     "execution_count": 4,
     "metadata": {},
     "output_type": "execute_result"
    }
   ],
   "source": [
    "labels_df.head()"
   ]
  },
  {
   "cell_type": "code",
   "execution_count": 5,
   "id": "2e193b23",
   "metadata": {},
   "outputs": [],
   "source": [
    "# Adjust the image IDs in the dataframe\n",
    "labels_df['image_id'] = labels_df['image_id'].apply(lambda x: f\"{x:08d}\")"
   ]
  },
  {
   "cell_type": "code",
   "execution_count": 6,
   "id": "017da9c7",
   "metadata": {},
   "outputs": [
    {
     "data": {
      "text/html": [
       "<div>\n",
       "<style scoped>\n",
       "    .dataframe tbody tr th:only-of-type {\n",
       "        vertical-align: middle;\n",
       "    }\n",
       "\n",
       "    .dataframe tbody tr th {\n",
       "        vertical-align: top;\n",
       "    }\n",
       "\n",
       "    .dataframe thead th {\n",
       "        text-align: right;\n",
       "    }\n",
       "</style>\n",
       "<table border=\"1\" class=\"dataframe\">\n",
       "  <thead>\n",
       "    <tr style=\"text-align: right;\">\n",
       "      <th></th>\n",
       "      <th>image_id</th>\n",
       "      <th>class</th>\n",
       "      <th>x_min</th>\n",
       "      <th>y_min</th>\n",
       "      <th>x_max</th>\n",
       "      <th>y_max</th>\n",
       "    </tr>\n",
       "  </thead>\n",
       "  <tbody>\n",
       "    <tr>\n",
       "      <th>351544</th>\n",
       "      <td>00110590</td>\n",
       "      <td>car</td>\n",
       "      <td>18</td>\n",
       "      <td>57</td>\n",
       "      <td>97</td>\n",
       "      <td>98</td>\n",
       "    </tr>\n",
       "    <tr>\n",
       "      <th>351545</th>\n",
       "      <td>00110591</td>\n",
       "      <td>articulated_truck</td>\n",
       "      <td>2</td>\n",
       "      <td>71</td>\n",
       "      <td>690</td>\n",
       "      <td>351</td>\n",
       "    </tr>\n",
       "    <tr>\n",
       "      <th>351546</th>\n",
       "      <td>00110592</td>\n",
       "      <td>pickup_truck</td>\n",
       "      <td>3</td>\n",
       "      <td>240</td>\n",
       "      <td>214</td>\n",
       "      <td>378</td>\n",
       "    </tr>\n",
       "    <tr>\n",
       "      <th>351547</th>\n",
       "      <td>00110592</td>\n",
       "      <td>car</td>\n",
       "      <td>465</td>\n",
       "      <td>111</td>\n",
       "      <td>507</td>\n",
       "      <td>135</td>\n",
       "    </tr>\n",
       "    <tr>\n",
       "      <th>351548</th>\n",
       "      <td>00110592</td>\n",
       "      <td>non-motorized_vehicle</td>\n",
       "      <td>197</td>\n",
       "      <td>187</td>\n",
       "      <td>318</td>\n",
       "      <td>269</td>\n",
       "    </tr>\n",
       "  </tbody>\n",
       "</table>\n",
       "</div>"
      ],
      "text/plain": [
       "        image_id                  class  x_min  y_min  x_max  y_max\n",
       "351544  00110590                    car     18     57     97     98\n",
       "351545  00110591      articulated_truck      2     71    690    351\n",
       "351546  00110592           pickup_truck      3    240    214    378\n",
       "351547  00110592                    car    465    111    507    135\n",
       "351548  00110592  non-motorized_vehicle    197    187    318    269"
      ]
     },
     "execution_count": 6,
     "metadata": {},
     "output_type": "execute_result"
    }
   ],
   "source": [
    "labels_df.tail()"
   ]
  },
  {
   "cell_type": "code",
   "execution_count": 7,
   "id": "a17394e8",
   "metadata": {},
   "outputs": [],
   "source": [
    "# use iloc to pick the first 1000 labels\n",
    "labels_df = labels_df.iloc[:1000]"
   ]
  },
  {
   "cell_type": "code",
   "execution_count": 8,
   "id": "0357e712",
   "metadata": {},
   "outputs": [],
   "source": [
    "# Load the correcponding images\n",
    "image_dir = '../../Datasets/Capstone_1/Part1/Images/'\n",
    "# Define the target size for all images (e.g., 224x224)\n",
    "target_size = (224, 224)"
   ]
  },
  {
   "cell_type": "code",
   "execution_count": 9,
   "id": "3e991e11",
   "metadata": {},
   "outputs": [],
   "source": [
    "images = []\n",
    "for index, row in labels_df.iterrows():\n",
    "    image_path = os.path.join(image_dir, f\"{row['image_id']}.jpg\")\n",
    "    img = cv2.imread(image_path)\n",
    "    if img is not None:\n",
    "        # Ensure the image is in RGB format\n",
    "        if len(img.shape) == 2:  # If the image is grayscale\n",
    "            img = cv2.cvtColor(img, cv2.COLOR_GRAY2RGB)\n",
    "        elif img.shape[2] == 4:  # If the image has an alpha channel\n",
    "            img = cv2.cvtColor(img, cv2.COLOR_BGRA2RGB)\n",
    "        \n",
    "        # Resize the image to the target size\n",
    "        img_resized = cv2.resize(img, target_size)\n",
    "        images.append(img_resized)\n",
    "    else:\n",
    "        print(f\"Error Loading image: {image_path}\")\n",
    "processed_images = np.array(images)"
   ]
  },
  {
   "cell_type": "code",
   "execution_count": 10,
   "id": "74b0f9ec",
   "metadata": {},
   "outputs": [
    {
     "name": "stdout",
     "output_type": "stream",
     "text": [
      "1000 images loaded successfully.\n"
     ]
    }
   ],
   "source": [
    "# check if images are loaded\n",
    "if len(images) == 0:\n",
    "    print(\"No eimage loaded. Please check the image paths.\")\n",
    "else:\n",
    "    print(f\"{len(images)} images loaded successfully.\")"
   ]
  },
  {
   "cell_type": "code",
   "execution_count": 11,
   "id": "0ee9bea8",
   "metadata": {},
   "outputs": [
    {
     "data": {
      "text/plain": [
       "car                      682\n",
       "pickup_truck             111\n",
       "motorized_vehicle         61\n",
       "articulated_truck         30\n",
       "work_van                  29\n",
       "bus                       28\n",
       "pedestrian                23\n",
       "single_unit_truck         18\n",
       "bicycle                   12\n",
       "non-motorized_vehicle      5\n",
       "motorcycle                 1\n",
       "Name: class, dtype: int64"
      ]
     },
     "execution_count": 11,
     "metadata": {},
     "output_type": "execute_result"
    }
   ],
   "source": [
    "# Analyze the distribution of vehicle types in the liminted dataset\n",
    "vehicle_types = labels_df['class'].value_counts()\n",
    "vehicle_types"
   ]
  },
  {
   "cell_type": "code",
   "execution_count": 12,
   "id": "b66e77bd",
   "metadata": {},
   "outputs": [],
   "source": [
    "# Address the quality issues arising from the discrepancy lables and actual image filenames\n",
    "# Sort the image filenames\n",
    "labels_df = labels_df.sort_values('image_id')"
   ]
  },
  {
   "cell_type": "code",
   "execution_count": 13,
   "id": "4934d9df",
   "metadata": {},
   "outputs": [],
   "source": [
    "labels = labels_df['class'].to_numpy()\n",
    "bounding_boxes = labels_df[['x_min', 'y_min', 'x_max', 'y_max']].to_numpy()"
   ]
  },
  {
   "cell_type": "code",
   "execution_count": 14,
   "id": "cc2c92d2",
   "metadata": {},
   "outputs": [],
   "source": [
    "# Convert labels to one-hot enconding \n",
    "unique_labels = np.unique(labels)\n",
    "label_to_index = {label: index for index, label in enumerate(unique_labels)}\n",
    "index_to_label = {index: label for index, label in enumerate(unique_labels)}\n",
    "labels = np.array([label_to_index[label] for label in labels])"
   ]
  },
  {
   "cell_type": "code",
   "execution_count": 15,
   "id": "a4103326",
   "metadata": {},
   "outputs": [],
   "source": [
    "X_train, X_test, y_train, y_test, bbox_train, bbox_test = train_test_split(processed_images, labels, bounding_boxes, test_size=0.2, random_state=42)"
   ]
  },
  {
   "cell_type": "markdown",
   "id": "558c0688",
   "metadata": {},
   "source": [
    "## Create an CNN architecture for Object detection "
   ]
  },
  {
   "cell_type": "code",
   "execution_count": null,
   "id": "191facb9",
   "metadata": {},
   "outputs": [],
   "source": []
  }
 ],
 "metadata": {
  "kernelspec": {
   "display_name": "Python 3 (ipykernel)",
   "language": "python",
   "name": "python3"
  },
  "language_info": {
   "codemirror_mode": {
    "name": "ipython",
    "version": 3
   },
   "file_extension": ".py",
   "mimetype": "text/x-python",
   "name": "python",
   "nbconvert_exporter": "python",
   "pygments_lexer": "ipython3",
   "version": "3.11.3"
  }
 },
 "nbformat": 4,
 "nbformat_minor": 5
}
